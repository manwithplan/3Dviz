{
 "cells": [
  {
   "cell_type": "code",
   "execution_count": 13,
   "id": "ea6aec34",
   "metadata": {},
   "outputs": [
    {
     "ename": "ModuleNotFoundError",
     "evalue": "No module named 'libtiff'",
     "output_type": "error",
     "traceback": [
      "\u001b[1;31m---------------------------------------------------------------------------\u001b[0m",
      "\u001b[1;31mModuleNotFoundError\u001b[0m                       Traceback (most recent call last)",
      "\u001b[1;32m~\\AppData\\Local\\Temp/ipykernel_7492/200305890.py\u001b[0m in \u001b[0;36m<module>\u001b[1;34m\u001b[0m\n\u001b[0;32m      3\u001b[0m \u001b[1;32mfrom\u001b[0m \u001b[0mrasterio\u001b[0m\u001b[1;33m.\u001b[0m\u001b[0mwindows\u001b[0m \u001b[1;32mimport\u001b[0m \u001b[0mWindow\u001b[0m\u001b[1;33m\u001b[0m\u001b[1;33m\u001b[0m\u001b[0m\n\u001b[0;32m      4\u001b[0m \u001b[1;33m\u001b[0m\u001b[0m\n\u001b[1;32m----> 5\u001b[1;33m \u001b[1;32mfrom\u001b[0m \u001b[0mlibtiff\u001b[0m \u001b[1;32mimport\u001b[0m \u001b[0mTIFF\u001b[0m\u001b[1;33m\u001b[0m\u001b[1;33m\u001b[0m\u001b[0m\n\u001b[0m\u001b[0;32m      6\u001b[0m \u001b[1;33m\u001b[0m\u001b[0m\n\u001b[0;32m      7\u001b[0m \u001b[1;32mfrom\u001b[0m \u001b[0mmatplotlib\u001b[0m \u001b[1;32mimport\u001b[0m \u001b[0mpyplot\u001b[0m \u001b[1;32mas\u001b[0m \u001b[0mplt\u001b[0m\u001b[1;33m\u001b[0m\u001b[1;33m\u001b[0m\u001b[0m\n",
      "\u001b[1;31mModuleNotFoundError\u001b[0m: No module named 'libtiff'"
     ]
    }
   ],
   "source": [
    "import rasterio as rs\n",
    "from rasterio.plot import show\n",
    "from rasterio.windows import Window\n",
    "\n",
    "from libtiff import TIFF\n",
    "\n",
    "from matplotlib import pyplot as plt\n",
    "\n",
    "import os\n",
    "from os.path import dirname, abspath, join\n",
    "\n",
    "import numpy as np\n"
   ]
  },
  {
   "cell_type": "code",
   "execution_count": null,
   "id": "63634922",
   "metadata": {},
   "outputs": [],
   "source": []
  },
  {
   "cell_type": "code",
   "execution_count": null,
   "id": "9c3d7267",
   "metadata": {},
   "outputs": [],
   "source": []
  },
  {
   "cell_type": "code",
   "execution_count": 14,
   "id": "d9900720",
   "metadata": {},
   "outputs": [],
   "source": [
    "# GLOBAL PARAMS\n",
    "\n",
    "current_url = os.getcwd()\n",
    "home_url = dirname(abspath(current_url))\n",
    "data_url = os.path.join(home_url, 'Data')\n",
    "dtm_url = os.path.join(data_url, 'DTM')\n",
    "dsm_url = os.path.join(data_url, 'DSM')\n",
    "dtm_tiff_url = os.path.join(dtm_url, 'GeoTiff')\n",
    "dsm_tiff_url = os.path.join(dsm_url, 'GeoTiff')\n",
    "dtm_data_url = os.path.join(dtm_url, 'otherData')\n",
    "dsm_data_url = os.path.join(dsm_url, 'otherData')\n"
   ]
  },
  {
   "cell_type": "code",
   "execution_count": 15,
   "id": "7e589a53",
   "metadata": {},
   "outputs": [
    {
     "ename": "NameError",
     "evalue": "name 'TIFF' is not defined",
     "output_type": "error",
     "traceback": [
      "\u001b[1;31m---------------------------------------------------------------------------\u001b[0m",
      "\u001b[1;31mNameError\u001b[0m                                 Traceback (most recent call last)",
      "\u001b[1;32m~\\AppData\\Local\\Temp/ipykernel_7492/1846758508.py\u001b[0m in \u001b[0;36m<module>\u001b[1;34m\u001b[0m\n\u001b[0;32m      2\u001b[0m \u001b[0mfile_url\u001b[0m \u001b[1;33m=\u001b[0m \u001b[0mos\u001b[0m\u001b[1;33m.\u001b[0m\u001b[0mpath\u001b[0m\u001b[1;33m.\u001b[0m\u001b[0mjoin\u001b[0m\u001b[1;33m(\u001b[0m\u001b[0mdtm_tiff_url\u001b[0m\u001b[1;33m,\u001b[0m \u001b[0mfile_name\u001b[0m\u001b[1;33m)\u001b[0m\u001b[1;33m\u001b[0m\u001b[1;33m\u001b[0m\u001b[0m\n\u001b[0;32m      3\u001b[0m \u001b[1;33m\u001b[0m\u001b[0m\n\u001b[1;32m----> 4\u001b[1;33m \u001b[0mimg_dtm\u001b[0m \u001b[1;33m=\u001b[0m \u001b[0mTIFF\u001b[0m\u001b[1;33m.\u001b[0m\u001b[0mopen\u001b[0m\u001b[1;33m(\u001b[0m\u001b[0mfile_url\u001b[0m\u001b[1;33m)\u001b[0m\u001b[1;33m\u001b[0m\u001b[1;33m\u001b[0m\u001b[0m\n\u001b[0m\u001b[0;32m      5\u001b[0m \u001b[0mimg_full\u001b[0m \u001b[1;33m=\u001b[0m \u001b[0mimg_dtm\u001b[0m\u001b[1;33m.\u001b[0m\u001b[0mread\u001b[0m\u001b[1;33m(\u001b[0m\u001b[0mimg_dtm\u001b[0m\u001b[1;33m)\u001b[0m\u001b[1;33m\u001b[0m\u001b[1;33m\u001b[0m\u001b[0m\n\u001b[0;32m      6\u001b[0m \u001b[0mcropped_img\u001b[0m \u001b[1;33m=\u001b[0m \u001b[0mimg_full\u001b[0m\u001b[1;33m[\u001b[0m\u001b[1;33m:\u001b[0m\u001b[1;33m,\u001b[0m \u001b[1;36m4500\u001b[0m\u001b[1;33m:\u001b[0m\u001b[1;36m9000\u001b[0m\u001b[1;33m,\u001b[0m \u001b[1;36m8500\u001b[0m\u001b[1;33m:\u001b[0m\u001b[1;36m17000\u001b[0m\u001b[1;33m]\u001b[0m\u001b[1;33m\u001b[0m\u001b[1;33m\u001b[0m\u001b[0m\n",
      "\u001b[1;31mNameError\u001b[0m: name 'TIFF' is not defined"
     ]
    }
   ],
   "source": [
    "file_name = 'DHMVIIDTMRAS1m_k01.tif'\n",
    "file_url = os.path.join(dtm_tiff_url, file_name)\n",
    "\n",
    "img_dtm = TIFF.open(file_url)\n",
    "img_full = img_dtm.read(img_dtm)\n",
    "cropped_img = img_full[:, 4500:9000, 8500:17000]\n",
    "plt.figure(figsize=(22, 16))\n",
    "plt.imshow(cropped_img[0, :, :])\n",
    "plt.show()"
   ]
  },
  {
   "cell_type": "code",
   "execution_count": null,
   "id": "84d10700",
   "metadata": {},
   "outputs": [],
   "source": [
    "file_name = 'DHMVIIDSMRAS1m_k01.tif'\n",
    "file_url = os.path.join(dsm_tiff_url, file_name)\n",
    "\n",
    "img_dsm = rs.open(file_url)\n",
    "cropped_img = img_dsm[:, 4500:9000, 8500:17000]\n",
    "plt.figure(figsize=(22, 16))\n",
    "plt.imshow(cropped_img[0, :, :])\n",
    "plt.show()"
   ]
  },
  {
   "cell_type": "code",
   "execution_count": null,
   "id": "c38de556",
   "metadata": {},
   "outputs": [],
   "source": [
    "file_name = 'DHMVII_vdc_k01.shp'\n",
    "file_url = os.path.join(other_data_url, file_name)\n",
    "\n",
    "tes = gp.read_file(file_url)\n",
    "tes.plot()\n",
    "plt.show()"
   ]
  },
  {
   "cell_type": "code",
   "execution_count": null,
   "id": "cf98c3dc",
   "metadata": {},
   "outputs": [],
   "source": []
  }
 ],
 "metadata": {
  "kernelspec": {
   "display_name": "Python 3 (ipykernel)",
   "language": "python",
   "name": "python3"
  },
  "language_info": {
   "codemirror_mode": {
    "name": "ipython",
    "version": 3
   },
   "file_extension": ".py",
   "mimetype": "text/x-python",
   "name": "python",
   "nbconvert_exporter": "python",
   "pygments_lexer": "ipython3",
   "version": "3.9.7"
  }
 },
 "nbformat": 4,
 "nbformat_minor": 5
}
