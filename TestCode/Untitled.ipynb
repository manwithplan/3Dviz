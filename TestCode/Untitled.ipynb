{
 "cells": [
  {
   "cell_type": "code",
   "execution_count": 95,
   "id": "63069d84",
   "metadata": {},
   "outputs": [],
   "source": [
    "import requests"
   ]
  },
  {
   "cell_type": "code",
   "execution_count": 96,
   "id": "eb4f947d",
   "metadata": {},
   "outputs": [],
   "source": [
    "api_url = 'https://dhm.agiv.be/api/elevation/v1'"
   ]
  },
  {
   "cell_type": "code",
   "execution_count": 97,
   "id": "38ef8010",
   "metadata": {},
   "outputs": [],
   "source": [
    "test_url = 'dataset'\n",
    "response = requests.get(api_url)"
   ]
  },
  {
   "cell_type": "code",
   "execution_count": 160,
   "id": "5f122fd1",
   "metadata": {},
   "outputs": [],
   "source": [
    "post_url = \"https://dhm.agiv.be/api/elevation/v1/DHMV2/request\""
   ]
  },
  {
   "cell_type": "code",
   "execution_count": 188,
   "id": "b05f48df",
   "metadata": {},
   "outputs": [],
   "source": [
    "json = {\n",
    "    \"Samples\": 30,\n",
    "    \"SrsIn\": 31370,\n",
    "    \"SrsOut\": 31370,\n",
    "    \"LineString\": {}\n",
    "}"
   ]
  },
  {
   "cell_type": "code",
   "execution_count": 196,
   "id": "34adb778",
   "metadata": {},
   "outputs": [],
   "source": [
    "xml = f\"\"\"\n",
    "<Query xmlns:xsd=\"http://www.w3.org/2001/XMLSchema\" xmlns:xsi=\"http://www.w3.org/2001/XMLSchema-instance\">\n",
    "  <Samples>30</Samples>\n",
    "  <SrsIn>31370</SrsIn>\n",
    "  <SrsOut>31370</SrsOut>\n",
    "  <LineString xmlns=\"http://www.opengis.net/gml\">\n",
    "    <posList>133630.81 200349.78 133631.16 200461.03 133771.21 200460.59</posList>\n",
    "  </LineString>\n",
    "</Query>\n",
    "\"\"\""
   ]
  },
  {
   "cell_type": "code",
   "execution_count": 197,
   "id": "0beec531",
   "metadata": {},
   "outputs": [],
   "source": [
    "headers = {'Content-type': 'application/xml'}"
   ]
  },
  {
   "cell_type": "code",
   "execution_count": 198,
   "id": "8e826330",
   "metadata": {},
   "outputs": [],
   "source": [
    "response = requests.post(post_url, xml, headers=headers)"
   ]
  },
  {
   "cell_type": "code",
   "execution_count": 199,
   "id": "1e561bb0",
   "metadata": {},
   "outputs": [
    {
     "data": {
      "text/plain": [
       "[[0.0, 133630.81, 200349.78, 10.55],\n",
       " [8.66556006001514, 133630.8372623012, 200358.4455171756, 10.9],\n",
       " [17.33112012003028, 133630.86452460245, 200367.11103435123, 11.14],\n",
       " [25.996680180045423, 133630.89178690367, 200375.77655152683, 11.35],\n",
       " [34.66224024006056, 133630.9190492049, 200384.4420687024, 11.81],\n",
       " [43.3278003000757, 133630.94631150615, 200393.107585878, 12.02],\n",
       " [51.99336036009084, 133630.97357380734, 200401.77310305362, 12.09],\n",
       " [60.65892042010598, 133631.00083610858, 200410.4386202292, 12.06],\n",
       " [69.32448048012112, 133631.02809840982, 200419.10413740482, 12.14],\n",
       " [77.99004054013626, 133631.05536071103, 200427.76965458042, 12.75],\n",
       " [86.6556006001514, 133631.08262301228, 200436.43517175602, 12.76],\n",
       " [95.32116066016654, 133631.1098853135, 200445.10068893165, 12.84],\n",
       " [103.98672072018168, 133631.1371476147, 200453.76620610722, 13.02],\n",
       " [112.65228078019682, 133632.56172330194, 200461.0255961567, 13.14],\n",
       " [121.31784084021196, 133641.22724059556, 200460.9983713969, 13.1],\n",
       " [129.9834009002271, 133649.89275788917, 200460.9711466371, 12.86],\n",
       " [138.64896096024225, 133658.55827518282, 200460.94392187733, 12.88],\n",
       " [147.3145210202574, 133667.22379247643, 200460.91669711753, 12.89],\n",
       " [155.98008108027253, 133675.88930977008, 200460.88947235773, 12.97],\n",
       " [164.64564114028767, 133684.5548270637, 200460.86224759795, 12.81],\n",
       " [173.3112012003028, 133693.22034435734, 200460.83502283815, 13.02],\n",
       " [181.97676126031794, 133701.88586165095, 200460.80779807834, 13.03],\n",
       " [190.64232132033308, 133710.5513789446, 200460.78057331854, 13.02],\n",
       " [199.30788138034822, 133719.2168962382, 200460.75334855876, 13.14],\n",
       " [207.97344144036336, 133727.88241353186, 200460.72612379896, 12.85],\n",
       " [216.6390015003785, 133736.54793082547, 200460.69889903918, 12.77],\n",
       " [225.30456156039364, 133745.21344811912, 200460.67167427938, 12.72],\n",
       " [233.97012162040878, 133753.87896541273, 200460.64444951958, 12.55],\n",
       " [242.63568168042391, 133762.54448270638, 200460.61722475977, 12.57],\n",
       " [251.30124174043905, 133771.21, 200460.59, 12.64]]"
      ]
     },
     "execution_count": 199,
     "metadata": {},
     "output_type": "execute_result"
    }
   ],
   "source": [
    "response.json()"
   ]
  },
  {
   "cell_type": "code",
   "execution_count": null,
   "id": "3a3f506b",
   "metadata": {},
   "outputs": [],
   "source": [
    "# use a formatted string to get the result\n",
    "\n",
    "xml = f\"\"\"\n",
    "<Query xmlns:xsd=\"http://www.w3.org/2001/XMLSchema\" xmlns:xsi=\"http://www.w3.org/2001/XMLSchema-instance\">\n",
    "  <Samples>30</Samples>\n",
    "  <SrsIn>31370</SrsIn>\n",
    "  <SrsOut>31370</SrsOut>\n",
    "  <LineString xmlns=\"http://www.opengis.net/gml\">\n",
    "    <posList>{x} {y}</posList>\n",
    "  </LineString>\n",
    "</Query>\n",
    "\"\"\""
   ]
  },
  {
   "cell_type": "code",
   "execution_count": 201,
   "id": "102783f3",
   "metadata": {},
   "outputs": [
    {
     "data": {
      "text/plain": [
       "[154992.61, 155192.61, 211642.822, 211842.822]"
      ]
     },
     "execution_count": 201,
     "metadata": {},
     "output_type": "execute_result"
    }
   ],
   "source": [
    "# Would you look at that!\n",
    "# The logic would be to do it like this: \n",
    "\n",
    "\"\"\"\n",
    "1-1-1-1-1-1-1-1\n",
    "2-2-2-2-2-2-2-2\n",
    "3-3-3-3-3-3-3-3\n",
    "4-4-4-4-4-4-4-4\n",
    "5-5-5-5-5-5-5-5\n",
    "6-6-6-6-6-6-6-6\n",
    "\"\"\"\n",
    "\n",
    "# each line represents a request made with the most left and the most right coordinates as input.\n",
    "# each request uses n samples that correspond with the amount of measurements of each line.\n",
    "# each new request forms a new line, which can be stored in a numpy array.\n",
    "# This numpy array is used to plot a surface map.\n",
    "\n",
    "# gather coordinates (x,y)\n",
    "house_crds = (155151.12, 211718.34) \n",
    "\n",
    "# calculate cropped plot size \n",
    "house_crop_size = [house_crds[0]-100, house_crds[0]+100, house_crds[1]-100, house_crds[1]+100]\n",
    "\n",
    "for x in range(200):\n",
    "    "
   ]
  },
  {
   "cell_type": "code",
   "execution_count": null,
   "id": "5048a972",
   "metadata": {},
   "outputs": [],
   "source": []
  }
 ],
 "metadata": {
  "kernelspec": {
   "display_name": "Python 3 (ipykernel)",
   "language": "python",
   "name": "python3"
  },
  "language_info": {
   "codemirror_mode": {
    "name": "ipython",
    "version": 3
   },
   "file_extension": ".py",
   "mimetype": "text/x-python",
   "name": "python",
   "nbconvert_exporter": "python",
   "pygments_lexer": "ipython3",
   "version": "3.9.7"
  }
 },
 "nbformat": 4,
 "nbformat_minor": 5
}
