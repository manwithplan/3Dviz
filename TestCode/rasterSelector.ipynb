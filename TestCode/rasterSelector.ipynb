{
 "cells": [
  {
   "cell_type": "code",
   "execution_count": null,
   "id": "c3622ed1",
   "metadata": {},
   "outputs": [],
   "source": [
    "import rasterio as rs\n",
    "import rasterio.merge as rsmerge\n",
    "from rasterio.plot import show\n",
    "from rasterio.windows import Window\n",
    "\n",
    "from matplotlib import pyplot as plt\n",
    "from mpl_toolkits import mplot3d\n",
    "%matplotlib notebook\n",
    "\n",
    "import os\n",
    "from os.path import dirname, abspath, join\n",
    "\n",
    "import geopandas\n",
    "\n",
    "import numpy as np\n",
    "import numpy\n",
    "\n",
    "import os\n"
   ]
  },
  {
   "cell_type": "code",
   "execution_count": null,
   "id": "d8fe8b12",
   "metadata": {},
   "outputs": [],
   "source": [
    "# GLOBAL PARAMS\n",
    "\n",
    "current_url = os.getcwd()\n",
    "home_url = dirname(abspath(current_url))\n",
    "data_url = os.path.join(home_url, 'Data')\n",
    "dtm_url = os.path.join(data_url, 'DTM')\n",
    "dsm_url = os.path.join(data_url, 'DSM')\n",
    "dtm_tiff_url = os.path.join(dtm_url, 'GeoTiff')\n",
    "dsm_tiff_url = os.path.join(dsm_url, 'GeoTiff')\n",
    "dtm_data_url = os.path.join(dtm_url, 'otherData')\n",
    "dsm_data_url = os.path.join(dsm_url, 'otherData')\n"
   ]
  },
  {
   "cell_type": "code",
   "execution_count": null,
   "id": "bd787d20",
   "metadata": {},
   "outputs": [],
   "source": [
    "def selectMap(coordinates):\n",
    "    index = None\n",
    "    file_name = 'DHMVIIDTMRAS1m_k01.tif'\n",
    "    file_url = os.path.join(dtm_tiff_url, file_name)\n",
    "    for key, value in maps.items():\n",
    "        if (coordinates[0] >= value[0]) and (coordinates[0] < (value[0] + map_size[0])):\n",
    "            if (coordinates[1] >= value[1]) and (coordinates[1] < (value[1] + map_size[1])):\n",
    "                file_name = f\"DHMVIIDTMRAS1m_k{key}.tif\"\n",
    "                \n",
    "    if os.path.exists(os.path.join(dtm_tiff_url, file_name)):\n",
    "        return file_url\n",
    "    return f\"file not present, download '{file_name}' !\""
   ]
  },
  {
   "cell_type": "code",
   "execution_count": null,
   "id": "51005d0a",
   "metadata": {},
   "outputs": [],
   "source": [
    "selectMap((194000,247000))"
   ]
  },
  {
   "cell_type": "code",
   "execution_count": null,
   "id": "a684323f",
   "metadata": {},
   "outputs": [],
   "source": [
    "map_size = (32000.0, 20000.0)\n",
    "\n",
    "maps = {\n",
    "    '01' : (145000.0, 247000.0),\n",
    "    '02' : (162000.0, 247000.0),\n",
    "    '03' : (194000.0, 247000.0),\n",
    "    '04' : (34000.0, 238000.0),\n",
    "    '05' : (66000.0, 238000.0),\n",
    "    '06' : (98000.0, 238000.0),\n",
    "    '07' : (130000.0, 238000.0),\n",
    "    '08' : (162000.0, 238000.0),\n",
    "    '09' : (194000.0, 238000.0),\n",
    "    '10' : (226000.0, 238000.0),\n",
    "    '11' : (2000.0, 218000.0),\n",
    "    '12' : (34000.0, 218000.0),\n",
    "    '13' : (66000.0, 218000.0),\n",
    "    '14' : (98000.0, 218000.0),\n",
    "    '15' : (130000.0, 218000.0),\n",
    "    '16' : (162000.0, 218000.0),\n",
    "    '17' : (194000.0, 218000.0),\n",
    "    '18' : (226000.0, 218000.0),\n",
    "    '19' : (2000.0, 198000.0),\n",
    "    '20' : (34000.0, 198000.0),\n",
    "    '21' : (66000.0, 198000.0),\n",
    "    '22' : (98000.0, 198000.0),\n",
    "    '23' : (130000.0, 198000.0),\n",
    "    '24' : (162000.0, 198000.0),\n",
    "    '25' : (194000.0, 198000.0),\n",
    "    '26' : (226000.0, 198000.0),\n",
    "    '27' : (2000.0, 178000.0),\n",
    "    '28' : (34000.0, 178000.0),\n",
    "    '29' : (66000.0, 178000.0),\n",
    "    '30' : (98000.0, 178000.0),\n",
    "    '31' : (130000.0, 178000.0),\n",
    "    '32' : (162000.0, 178000.0),\n",
    "    '33' : (194000.0, 178000.0),\n",
    "    '34' : (226000.0, 178000.0),\n",
    "    '36' : (34000.0, 158000.0),\n",
    "    '37' : (66000.0, 158000.0),\n",
    "    '38' : (98000.0, 158000.0),\n",
    "    '39' : (130000.0, 158000.0),\n",
    "    '40' : (162000.0, 158000.0),\n",
    "    '41' : (194000.0, 158000.0),\n",
    "    '42' : (226000.0, 158000.0),\n",
    "    '43' : (258000.0, 158000.0)\n",
    "}"
   ]
  },
  {
   "cell_type": "code",
   "execution_count": null,
   "id": "7f763b96",
   "metadata": {},
   "outputs": [],
   "source": []
  }
 ],
 "metadata": {
  "kernelspec": {
   "display_name": "Python 3 (ipykernel)",
   "language": "python",
   "name": "python3"
  },
  "language_info": {
   "codemirror_mode": {
    "name": "ipython",
    "version": 3
   },
   "file_extension": ".py",
   "mimetype": "text/x-python",
   "name": "python",
   "nbconvert_exporter": "python",
   "pygments_lexer": "ipython3",
   "version": "3.9.7"
  }
 },
 "nbformat": 4,
 "nbformat_minor": 5
}
